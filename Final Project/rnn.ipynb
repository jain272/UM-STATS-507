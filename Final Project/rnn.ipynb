{
 "cells": [
  {
   "cell_type": "code",
   "execution_count": 1,
   "id": "8d16f75c",
   "metadata": {},
   "outputs": [],
   "source": [
    "import pandas as pd\n",
    "import numpy as np\n",
    "import matplotlib.pyplot as plt\n",
    "import torch\n",
    "import torch.nn as nn\n",
    "import torch.optim as optim\n",
    "from sklearn.preprocessing import MinMaxScaler\n",
    "from torch.utils.data import DataLoader, TensorDataset\n",
    "import itertools"
   ]
  },
  {
   "cell_type": "code",
   "execution_count": 2,
   "id": "fa94163a",
   "metadata": {},
   "outputs": [],
   "source": [
    "# Load dataset\n",
    "def load_data():\n",
    "    \"\"\"Load and preprocess the dataset.\"\"\"\n",
    "\n",
    "    df = pd.read_csv(\"hf://datasets/misikoff/SPX/^SPX.csv\")\n",
    "    df['Date'] = pd.to_datetime(df['Date'])\n",
    "\n",
    "    df['Date_Original'] = df['Date']\n",
    "    df.set_index('Date', inplace=True)\n",
    "    df = df.sort_index()\n",
    "\n",
    "    df = df[['Date_Original', 'Close']]\n",
    "    return df"
   ]
  },
  {
   "cell_type": "code",
   "execution_count": 3,
   "id": "059a2245",
   "metadata": {},
   "outputs": [],
   "source": [
    "# Perform EDA and Handle Missing Data\n",
    "def perform_eda(df):\n",
    "    \"\"\"Perform exploratory data analysis on the dataset.\"\"\"\n",
    "\n",
    "    print(\"Dataset Overview:\\n\", df.head())\n",
    "    print(\"\\nSummary Statistics:\\n\", df.describe())\n",
    "\n",
    "    # Plot Closing Price over Time\n",
    "    plt.figure(figsize=(12,6))\n",
    "    plt.plot(df.index, df['Close'], label='Closing Price')\n",
    "    plt.xlabel('Date')\n",
    "    plt.ylabel('Closing Price')\n",
    "    plt.title('SPX Closing Price Over Time')\n",
    "    plt.legend()\n",
    "    plt.show()\n",
    "\n",
    "    return df"
   ]
  },
  {
   "cell_type": "code",
   "execution_count": 4,
   "id": "b47a4e0c",
   "metadata": {},
   "outputs": [],
   "source": [
    "# Train-Test Split\n",
    "def train_test_split(df, test_ratio=0.2):\n",
    "    \"\"\"Split the dataset into training and testing sets.\"\"\"\n",
    "\n",
    "    split_idx = int(len(df) * (1 - test_ratio))\n",
    "    train_df = df.iloc[:split_idx]\n",
    "    test_df = df.iloc[split_idx:]\n",
    "    return train_df, test_df"
   ]
  },
  {
   "cell_type": "code",
   "execution_count": 5,
   "id": "a4433692",
   "metadata": {},
   "outputs": [],
   "source": [
    "# Prepare Data for PyTorch\n",
    "def prepare_data(df, seq_length=50, scaler=None, fit=True):\n",
    "    \"\"\"Prepare data for PyTorch model.\"\"\"\n",
    "\n",
    "    if scaler is None:\n",
    "        scaler = MinMaxScaler()\n",
    "\n",
    "    if fit:\n",
    "        data_scaled = scaler.fit_transform(df[['Close']])\n",
    "    else:\n",
    "        data_scaled = scaler.transform(df[['Close']])\n",
    "\n",
    "    X, y = [], []\n",
    "    for i in range(len(data_scaled) - seq_length):\n",
    "        X.append(data_scaled[i:i+seq_length])\n",
    "        y.append(data_scaled[i+seq_length])\n",
    "    \n",
    "    X, y = np.array(X), np.array(y)\n",
    "    X_tensor = torch.tensor(X, dtype=torch.float32)\n",
    "    y_tensor = torch.tensor(y, dtype=torch.float32)\n",
    "\n",
    "    dataset = TensorDataset(X_tensor, y_tensor)\n",
    "    return DataLoader(dataset, batch_size=32, shuffle=False), scaler"
   ]
  },
  {
   "cell_type": "code",
   "execution_count": 6,
   "id": "5d5159be",
   "metadata": {},
   "outputs": [],
   "source": [
    "# Define RNN Model\n",
    "class RNNModel(nn.Module):\n",
    "    def __init__(self, input_size=1, hidden_size=64, num_layers=2, dropout=0.2):\n",
    "        \"\"\"Initialize RNN model.\"\"\"\n",
    "        super(RNNModel, self).__init__()\n",
    "        self.rnn = nn.RNN(input_size, hidden_size, num_layers,\n",
    "                          batch_first=True, dropout=dropout, nonlinearity='relu')\n",
    "        self.fc = nn.Linear(hidden_size, 1)\n",
    "    \n",
    "    def forward(self, x):\n",
    "        \"\"\"Forward pass for the model.\"\"\"\n",
    "        out, _ = self.rnn(x)\n",
    "        out = self.fc(out[:, -1, :])\n",
    "        return out"
   ]
  },
  {
   "cell_type": "code",
   "execution_count": 7,
   "id": "ae7f31e5",
   "metadata": {},
   "outputs": [],
   "source": [
    "# Train Model\n",
    "def train_model(model, train_loader, num_epochs=30, lr=0.001, device='cpu'):\n",
    "    \"\"\"Train the RNN model.\"\"\"\n",
    "\n",
    "    criterion = nn.MSELoss() # Mean Squared Error Loss\n",
    "    optimizer = optim.Adam(model.parameters(), lr=lr) # Adam Optimizer\n",
    "    # Learning Rate Scheduler\n",
    "    scheduler = torch.optim.lr_scheduler.ReduceLROnPlateau(optimizer, verbose=True)\n",
    "\n",
    "    epoch_losses = []\n",
    "    best_loss = float('inf')\n",
    "    # Early stopping parameters\n",
    "    patience_counter = 0\n",
    "    patience_limit = 15\n",
    "\n",
    "    for epoch in range(num_epochs):\n",
    "        model.train()  # Set model to training mode\n",
    "        total_loss = 0.0  # Initialize total loss for the epoch\n",
    "\n",
    "        # Iterate over batches\n",
    "        for X_batch, y_batch in train_loader:\n",
    "            X_batch, y_batch = X_batch.to(device), y_batch.to(device)\n",
    "            optimizer.zero_grad()\n",
    "            # Forward pass\n",
    "            outputs = model(X_batch)\n",
    "            # Compute loss\n",
    "            loss = criterion(outputs, y_batch)\n",
    "            # Backward pass and optimization\n",
    "            loss.backward()\n",
    "            # Update weights\n",
    "            optimizer.step()\n",
    "            total_loss += loss.item()  # Accumulate batch loss\n",
    "\n",
    "        avg_loss = total_loss / len(train_loader)\n",
    "        epoch_losses.append(avg_loss)\n",
    "        print(f'Epoch [{epoch+1}/{num_epochs}], Loss: {avg_loss:.4f}')\n",
    "\n",
    "        if avg_loss < best_loss:\n",
    "            best_loss = avg_loss\n",
    "            patience_counter = 0\n",
    "        else:\n",
    "            patience_counter += 1\n",
    "            if patience_counter >= patience_limit:\n",
    "                print(\"Early stopping triggered.\")\n",
    "                break\n",
    "        scheduler.step(avg_loss)\n",
    "\n",
    "    # Plot training loss\n",
    "    plt.figure()\n",
    "    plt.plot(epoch_losses)\n",
    "    plt.title('Training Loss Over Epochs')\n",
    "    plt.xlabel('Epoch')\n",
    "    plt.ylabel('Loss')\n",
    "    plt.show()"
   ]
  },
  {
   "cell_type": "code",
   "execution_count": 8,
   "id": "aef68a57",
   "metadata": {},
   "outputs": [],
   "source": [
    "def evaluate_model(model, test_loader, scaler, device='cpu'):\n",
    "    \"\"\"Evaluate the model on the test set.\"\"\"\n",
    "\n",
    "    model.eval()  # Set model to evaluation mode\n",
    "    model = model.to(device)  # Ensure model is on the correct device\n",
    "\n",
    "    predictions = []\n",
    "    actuals = []\n",
    "\n",
    "    # Print standard LSTM hyperparameters if applicable\n",
    "    if isinstance(model, RNNModel):\n",
    "        print(\"\\nModel Type: Standard RNN\")\n",
    "        print(f\"Hidden Size: {model.rnn.hidden_size}\")\n",
    "        print(f\"Num Layers: {model.rnn.num_layers}\")\n",
    "        print(f\"Dropout: {model.rnn.dropout}\")\n",
    "\n",
    "    with torch.no_grad():\n",
    "        for X_batch, y_batch in test_loader:\n",
    "            X_batch = X_batch.to(device)\n",
    "            y_batch = y_batch.to(device)\n",
    "            output = model(X_batch)\n",
    "            predictions.append(output.cpu().numpy())\n",
    "            actuals.append(y_batch.cpu().numpy())\n",
    "\n",
    "    # Concatenate predictions and actuals\n",
    "    predictions = np.concatenate(predictions).reshape(-1, 1)\n",
    "    actuals = np.concatenate(actuals).reshape(-1, 1)\n",
    "\n",
    "    # Inverse transform\n",
    "    predictions = scaler.inverse_transform(predictions)\n",
    "    actuals = scaler.inverse_transform(actuals)\n",
    "\n",
    "    # Metrics\n",
    "    mse = np.mean((predictions - actuals) ** 2)\n",
    "    mae = np.mean(np.abs(predictions - actuals))\n",
    "    print(f\"Test MSE: {mse:.4f}\")\n",
    "    print(f\"Test MAE: {mae:.4f}\")\n",
    "\n",
    "    # Plot\n",
    "    plt.figure(figsize=(12, 6))\n",
    "    plt.plot(actuals, label='Actual')\n",
    "    plt.plot(predictions, label='Predicted')\n",
    "    plt.title('Actual vs Predicted Closing Prices on Test Set')\n",
    "    plt.xlabel('Time Step')\n",
    "    plt.ylabel('Price')\n",
    "    plt.legend()\n",
    "    plt.show()"
   ]
  },
  {
   "cell_type": "code",
   "execution_count": 9,
   "id": "3dc94e7b",
   "metadata": {},
   "outputs": [],
   "source": [
    "def hyperparameter_tuning(train_df, device='cpu'):\n",
    "    \"\"\"Tune hyperparameters for the model.\"\"\"\n",
    "\n",
    "    param_grid = {\n",
    "        'hidden_size': [32, 64, 96, 128],\n",
    "        'num_layers': [1, 2],\n",
    "        'dropout': [0.1, 0.3],\n",
    "        'lr': [1e-3, 1e-4],\n",
    "        'seq_length': [30, 50, 70]\n",
    "    }\n",
    "\n",
    "    best_loss = float('inf')\n",
    "    best_params = None\n",
    "\n",
    "    # Split the training data into a smaller training set and validation set\n",
    "    train_sub, val_sub = train_test_split(train_df, test_ratio=0.2)\n",
    "\n",
    "    # Iterate over all combinations of hyperparameters\n",
    "    for hidden_size, num_layers, dropout, lr, seq_length in itertools.product(\n",
    "        param_grid['hidden_size'], param_grid['num_layers'],\n",
    "        param_grid['dropout'], param_grid['lr'], param_grid['seq_length']\n",
    "    ):\n",
    "        print(f\"Trying config: hidden_size={hidden_size}, num_layers={num_layers}, dropout={dropout}, lr={lr}, seq_length={seq_length}\")\n",
    "        train_loader, scaler = prepare_data(train_sub, seq_length, fit=True)\n",
    "        val_loader, _ = prepare_data(val_sub, seq_length, scaler=scaler, fit=False)\n",
    "\n",
    "        model = RNNModel(hidden_size=hidden_size, num_layers=num_layers, dropout=dropout).to(device)\n",
    "        criterion = nn.MSELoss()\n",
    "        optimizer = optim.Adam(model.parameters(), lr=lr)\n",
    "        for epoch in range(10):  # Short training during tuning\n",
    "            model.train()\n",
    "            for X_batch, y_batch in train_loader:\n",
    "                X_batch, y_batch = X_batch.to(device), y_batch.to(device)\n",
    "                optimizer.zero_grad()\n",
    "                outputs = model(X_batch)\n",
    "                loss = criterion(outputs, y_batch)\n",
    "                loss.backward()\n",
    "                optimizer.step()\n",
    "\n",
    "        # Validation\n",
    "        model.eval()\n",
    "        val_loss = 0\n",
    "        with torch.no_grad():\n",
    "            for X_batch, y_batch in val_loader:\n",
    "                X_batch, y_batch = X_batch.to(device), y_batch.to(device)\n",
    "                outputs = model(X_batch)\n",
    "                loss = criterion(outputs, y_batch)\n",
    "                val_loss += loss.item()\n",
    "        avg_loss = val_loss / len(val_loader)\n",
    "        print(f\"Avg Val Loss: {avg_loss:.4f}\")\n",
    "\n",
    "        # Check if this is the best configuration\n",
    "        if avg_loss < best_loss:\n",
    "            best_loss = avg_loss\n",
    "            best_params = (hidden_size, num_layers, dropout, lr, seq_length)\n",
    "\n",
    "    print(\"\\nBest config:\")\n",
    "    print(f\"hidden_size={best_params[0]}, num_layers={best_params[1]}, dropout={best_params[2]}, lr={best_params[3]}, seq_length={best_params[4]}\")\n",
    "    # Return the best parameters\n",
    "    return best_params"
   ]
  },
  {
   "cell_type": "code",
   "execution_count": 10,
   "id": "6c684ae6",
   "metadata": {},
   "outputs": [
    {
     "name": "stdout",
     "output_type": "stream",
     "text": [
      "Using device: cuda\n",
      "Dataset Overview:\n",
      "            Date_Original      Close\n",
      "Date                               \n",
      "1927-12-30    1927-12-30  17.660000\n",
      "1928-01-03    1928-01-03  17.760000\n",
      "1928-01-04    1928-01-04  17.719999\n",
      "1928-01-05    1928-01-05  17.549999\n",
      "1928-01-06    1928-01-06  17.660000\n",
      "\n",
      "Summary Statistics:\n",
      "                        Date_Original         Close\n",
      "count                          24167  24167.000000\n",
      "mean   1976-03-09 19:45:41.374601728    617.896353\n",
      "min              1927-12-30 00:00:00      4.400000\n",
      "25%              1952-03-11 12:00:00     24.590000\n",
      "50%              1976-04-13 00:00:00    101.949997\n",
      "75%              2000-03-09 12:00:00   1003.494995\n",
      "max              2024-03-15 00:00:00   5175.270020\n",
      "std                              NaN    993.672669\n"
     ]
    },
    {
     "data": {
      "image/png": "[encoded data removed]",
      "text/plain": [
       "<Figure size 1200x600 with 1 Axes>"
      ]
     },
     "metadata": {},
     "output_type": "display_data"
    }
   ],
   "source": [
    "# Set device to use GPU if available, otherwise fallback to CPU\n",
    "device = torch.device('cuda' if torch.cuda.is_available() else 'mps' if torch.backends.mps.is_available() else 'cpu')\n",
    "print(f\"Using device: {device}\")\n",
    "\n",
    "# Load and preprocess data\n",
    "df = load_data()\n",
    "df = perform_eda(df)\n",
    "train_df, test_df = train_test_split(df)"
   ]
  },
  {
   "cell_type": "code",
   "execution_count": 11,
   "id": "7535322f",
   "metadata": {
    "scrolled": true
   },
   "outputs": [
    {
     "name": "stdout",
     "output_type": "stream",
     "text": [
      "Trying config: hidden_size=32, num_layers=1, dropout=0.1, lr=0.001, seq_length=30\n"
     ]
    },
    {
     "name": "stderr",
     "output_type": "stream",
     "text": [
      "/home/jatinj/.local/lib/python3.11/site-packages/torch/nn/modules/rnn.py:123: UserWarning: dropout option adds dropout after all but last recurrent layer, so non-zero dropout expects num_layers greater than 1, but got dropout=0.1 and num_layers=1\n",
      "  warnings.warn(\n"
     ]
    },
    {
     "name": "stdout",
     "output_type": "stream",
     "text": [
      "Avg Val Loss: 0.1953\n",
      "Trying config: hidden_size=32, num_layers=1, dropout=0.1, lr=0.001, seq_length=50\n"
     ]
    },
    {
     "name": "stderr",
     "output_type": "stream",
     "text": [
      "/home/jatinj/.local/lib/python3.11/site-packages/torch/nn/modules/rnn.py:123: UserWarning: dropout option adds dropout after all but last recurrent layer, so non-zero dropout expects num_layers greater than 1, but got dropout=0.1 and num_layers=1\n",
      "  warnings.warn(\n"
     ]
    },
    {
     "name": "stdout",
     "output_type": "stream",
     "text": [
      "Avg Val Loss: 0.0021\n",
      "Trying config: hidden_size=32, num_layers=1, dropout=0.1, lr=0.001, seq_length=70\n"
     ]
    },
    {
     "name": "stderr",
     "output_type": "stream",
     "text": [
      "/home/jatinj/.local/lib/python3.11/site-packages/torch/nn/modules/rnn.py:123: UserWarning: dropout option adds dropout after all but last recurrent layer, so non-zero dropout expects num_layers greater than 1, but got dropout=0.1 and num_layers=1\n",
      "  warnings.warn(\n"
     ]
    },
    {
     "name": "stdout",
     "output_type": "stream",
     "text": [
      "Avg Val Loss: 0.0125\n",
      "Trying config: hidden_size=32, num_layers=1, dropout=0.1, lr=0.0001, seq_length=30\n"
     ]
    },
    {
     "name": "stderr",
     "output_type": "stream",
     "text": [
      "/home/jatinj/.local/lib/python3.11/site-packages/torch/nn/modules/rnn.py:123: UserWarning: dropout option adds dropout after all but last recurrent layer, so non-zero dropout expects num_layers greater than 1, but got dropout=0.1 and num_layers=1\n",
      "  warnings.warn(\n"
     ]
    },
    {
     "name": "stdout",
     "output_type": "stream",
     "text": [
      "Avg Val Loss: 0.0029\n",
      "Trying config: hidden_size=32, num_layers=1, dropout=0.1, lr=0.0001, seq_length=50\n"
     ]
    },
    {
     "name": "stderr",
     "output_type": "stream",
     "text": [
      "/home/jatinj/.local/lib/python3.11/site-packages/torch/nn/modules/rnn.py:123: UserWarning: dropout option adds dropout after all but last recurrent layer, so non-zero dropout expects num_layers greater than 1, but got dropout=0.1 and num_layers=1\n",
      "  warnings.warn(\n"
     ]
    },
    {
     "name": "stdout",
     "output_type": "stream",
     "text": [
      "Avg Val Loss: 0.6995\n",
      "Trying config: hidden_size=32, num_layers=1, dropout=0.1, lr=0.0001, seq_length=70\n"
     ]
    },
    {
     "name": "stderr",
     "output_type": "stream",
     "text": [
      "/home/jatinj/.local/lib/python3.11/site-packages/torch/nn/modules/rnn.py:123: UserWarning: dropout option adds dropout after all but last recurrent layer, so non-zero dropout expects num_layers greater than 1, but got dropout=0.1 and num_layers=1\n",
      "  warnings.warn(\n"
     ]
    },
    {
     "name": "stdout",
     "output_type": "stream",
     "text": [
      "Avg Val Loss: 0.3711\n",
      "Trying config: hidden_size=32, num_layers=1, dropout=0.3, lr=0.001, seq_length=30\n"
     ]
    },
    {
     "name": "stderr",
     "output_type": "stream",
     "text": [
      "/home/jatinj/.local/lib/python3.11/site-packages/torch/nn/modules/rnn.py:123: UserWarning: dropout option adds dropout after all but last recurrent layer, so non-zero dropout expects num_layers greater than 1, but got dropout=0.3 and num_layers=1\n",
      "  warnings.warn(\n"
     ]
    },
    {
     "name": "stdout",
     "output_type": "stream",
     "text": [
      "Avg Val Loss: 0.0822\n",
      "Trying config: hidden_size=32, num_layers=1, dropout=0.3, lr=0.001, seq_length=50\n"
     ]
    },
    {
     "name": "stderr",
     "output_type": "stream",
     "text": [
      "/home/jatinj/.local/lib/python3.11/site-packages/torch/nn/modules/rnn.py:123: UserWarning: dropout option adds dropout after all but last recurrent layer, so non-zero dropout expects num_layers greater than 1, but got dropout=0.3 and num_layers=1\n",
      "  warnings.warn(\n"
     ]
    },
    {
     "name": "stdout",
     "output_type": "stream",
     "text": [
      "Avg Val Loss: 0.0149\n",
      "Trying config: hidden_size=32, num_layers=1, dropout=0.3, lr=0.001, seq_length=70\n"
     ]
    },
    {
     "name": "stderr",
     "output_type": "stream",
     "text": [
      "/home/jatinj/.local/lib/python3.11/site-packages/torch/nn/modules/rnn.py:123: UserWarning: dropout option adds dropout after all but last recurrent layer, so non-zero dropout expects num_layers greater than 1, but got dropout=0.3 and num_layers=1\n",
      "  warnings.warn(\n"
     ]
    },
    {
     "name": "stdout",
     "output_type": "stream",
     "text": [
      "Avg Val Loss: 0.0060\n",
      "Trying config: hidden_size=32, num_layers=1, dropout=0.3, lr=0.0001, seq_length=30\n"
     ]
    },
    {
     "name": "stderr",
     "output_type": "stream",
     "text": [
      "/home/jatinj/.local/lib/python3.11/site-packages/torch/nn/modules/rnn.py:123: UserWarning: dropout option adds dropout after all but last recurrent layer, so non-zero dropout expects num_layers greater than 1, but got dropout=0.3 and num_layers=1\n",
      "  warnings.warn(\n"
     ]
    },
    {
     "name": "stdout",
     "output_type": "stream",
     "text": [
      "Avg Val Loss: 0.0449\n",
      "Trying config: hidden_size=32, num_layers=1, dropout=0.3, lr=0.0001, seq_length=50\n"
     ]
    },
    {
     "name": "stderr",
     "output_type": "stream",
     "text": [
      "/home/jatinj/.local/lib/python3.11/site-packages/torch/nn/modules/rnn.py:123: UserWarning: dropout option adds dropout after all but last recurrent layer, so non-zero dropout expects num_layers greater than 1, but got dropout=0.3 and num_layers=1\n",
      "  warnings.warn(\n"
     ]
    },
    {
     "name": "stdout",
     "output_type": "stream",
     "text": [
      "Avg Val Loss: 0.1926\n",
      "Trying config: hidden_size=32, num_layers=1, dropout=0.3, lr=0.0001, seq_length=70\n"
     ]
    },
    {
     "name": "stderr",
     "output_type": "stream",
     "text": [
      "/home/jatinj/.local/lib/python3.11/site-packages/torch/nn/modules/rnn.py:123: UserWarning: dropout option adds dropout after all but last recurrent layer, so non-zero dropout expects num_layers greater than 1, but got dropout=0.3 and num_layers=1\n",
      "  warnings.warn(\n"
     ]
    },
    {
     "name": "stdout",
     "output_type": "stream",
     "text": [
      "Avg Val Loss: 0.5961\n",
      "Trying config: hidden_size=32, num_layers=2, dropout=0.1, lr=0.001, seq_length=30\n",
      "Avg Val Loss: 0.0099\n",
      "Trying config: hidden_size=32, num_layers=2, dropout=0.1, lr=0.001, seq_length=50\n",
      "Avg Val Loss: 0.0028\n",
      "Trying config: hidden_size=32, num_layers=2, dropout=0.1, lr=0.001, seq_length=70\n",
      "Avg Val Loss: 0.0029\n",
      "Trying config: hidden_size=32, num_layers=2, dropout=0.1, lr=0.0001, seq_length=30\n",
      "Avg Val Loss: 0.8558\n",
      "Trying config: hidden_size=32, num_layers=2, dropout=0.1, lr=0.0001, seq_length=50\n",
      "Avg Val Loss: 0.6642\n",
      "Trying config: hidden_size=32, num_layers=2, dropout=0.1, lr=0.0001, seq_length=70\n",
      "Avg Val Loss: 0.5130\n",
      "Trying config: hidden_size=32, num_layers=2, dropout=0.3, lr=0.001, seq_length=30\n",
      "Avg Val Loss: 0.3344\n",
      "Trying config: hidden_size=32, num_layers=2, dropout=0.3, lr=0.001, seq_length=50\n",
      "Avg Val Loss: 0.1171\n",
      "Trying config: hidden_size=32, num_layers=2, dropout=0.3, lr=0.001, seq_length=70\n",
      "Avg Val Loss: 0.2502\n",
      "Trying config: hidden_size=32, num_layers=2, dropout=0.3, lr=0.0001, seq_length=30\n",
      "Avg Val Loss: 0.2359\n",
      "Trying config: hidden_size=32, num_layers=2, dropout=0.3, lr=0.0001, seq_length=50\n",
      "Avg Val Loss: 0.2503\n",
      "Trying config: hidden_size=32, num_layers=2, dropout=0.3, lr=0.0001, seq_length=70\n",
      "Avg Val Loss: 1.0430\n",
      "Trying config: hidden_size=64, num_layers=1, dropout=0.1, lr=0.001, seq_length=30\n"
     ]
    },
    {
     "name": "stderr",
     "output_type": "stream",
     "text": [
      "/home/jatinj/.local/lib/python3.11/site-packages/torch/nn/modules/rnn.py:123: UserWarning: dropout option adds dropout after all but last recurrent layer, so non-zero dropout expects num_layers greater than 1, but got dropout=0.1 and num_layers=1\n",
      "  warnings.warn(\n"
     ]
    },
    {
     "name": "stdout",
     "output_type": "stream",
     "text": [
      "Avg Val Loss: 0.1120\n",
      "Trying config: hidden_size=64, num_layers=1, dropout=0.1, lr=0.001, seq_length=50\n"
     ]
    },
    {
     "name": "stderr",
     "output_type": "stream",
     "text": [
      "/home/jatinj/.local/lib/python3.11/site-packages/torch/nn/modules/rnn.py:123: UserWarning: dropout option adds dropout after all but last recurrent layer, so non-zero dropout expects num_layers greater than 1, but got dropout=0.1 and num_layers=1\n",
      "  warnings.warn(\n"
     ]
    },
    {
     "name": "stdout",
     "output_type": "stream",
     "text": [
      "Avg Val Loss: 0.0385\n",
      "Trying config: hidden_size=64, num_layers=1, dropout=0.1, lr=0.001, seq_length=70\n"
     ]
    },
    {
     "name": "stderr",
     "output_type": "stream",
     "text": [
      "/home/jatinj/.local/lib/python3.11/site-packages/torch/nn/modules/rnn.py:123: UserWarning: dropout option adds dropout after all but last recurrent layer, so non-zero dropout expects num_layers greater than 1, but got dropout=0.1 and num_layers=1\n",
      "  warnings.warn(\n"
     ]
    },
    {
     "name": "stdout",
     "output_type": "stream",
     "text": [
      "Avg Val Loss: 0.0056\n",
      "Trying config: hidden_size=64, num_layers=1, dropout=0.1, lr=0.0001, seq_length=30\n"
     ]
    },
    {
     "name": "stderr",
     "output_type": "stream",
     "text": [
      "/home/jatinj/.local/lib/python3.11/site-packages/torch/nn/modules/rnn.py:123: UserWarning: dropout option adds dropout after all but last recurrent layer, so non-zero dropout expects num_layers greater than 1, but got dropout=0.1 and num_layers=1\n",
      "  warnings.warn(\n"
     ]
    },
    {
     "name": "stdout",
     "output_type": "stream",
     "text": [
      "Avg Val Loss: 0.2747\n",
      "Trying config: hidden_size=64, num_layers=1, dropout=0.1, lr=0.0001, seq_length=50\n"
     ]
    },
    {
     "name": "stderr",
     "output_type": "stream",
     "text": [
      "/home/jatinj/.local/lib/python3.11/site-packages/torch/nn/modules/rnn.py:123: UserWarning: dropout option adds dropout after all but last recurrent layer, so non-zero dropout expects num_layers greater than 1, but got dropout=0.1 and num_layers=1\n",
      "  warnings.warn(\n"
     ]
    },
    {
     "name": "stdout",
     "output_type": "stream",
     "text": [
      "Avg Val Loss: 0.4593\n",
      "Trying config: hidden_size=64, num_layers=1, dropout=0.1, lr=0.0001, seq_length=70\n"
     ]
    },
    {
     "name": "stderr",
     "output_type": "stream",
     "text": [
      "/home/jatinj/.local/lib/python3.11/site-packages/torch/nn/modules/rnn.py:123: UserWarning: dropout option adds dropout after all but last recurrent layer, so non-zero dropout expects num_layers greater than 1, but got dropout=0.1 and num_layers=1\n",
      "  warnings.warn(\n"
     ]
    },
    {
     "name": "stdout",
     "output_type": "stream",
     "text": [
      "Avg Val Loss: 0.6383\n",
      "Trying config: hidden_size=64, num_layers=1, dropout=0.3, lr=0.001, seq_length=30\n"
     ]
    },
    {
     "name": "stderr",
     "output_type": "stream",
     "text": [
      "/home/jatinj/.local/lib/python3.11/site-packages/torch/nn/modules/rnn.py:123: UserWarning: dropout option adds dropout after all but last recurrent layer, so non-zero dropout expects num_layers greater than 1, but got dropout=0.3 and num_layers=1\n",
      "  warnings.warn(\n"
     ]
    },
    {
     "name": "stdout",
     "output_type": "stream",
     "text": [
      "Avg Val Loss: 0.0680\n",
      "Trying config: hidden_size=64, num_layers=1, dropout=0.3, lr=0.001, seq_length=50\n"
     ]
    },
    {
     "name": "stderr",
     "output_type": "stream",
     "text": [
      "/home/jatinj/.local/lib/python3.11/site-packages/torch/nn/modules/rnn.py:123: UserWarning: dropout option adds dropout after all but last recurrent layer, so non-zero dropout expects num_layers greater than 1, but got dropout=0.3 and num_layers=1\n",
      "  warnings.warn(\n"
     ]
    },
    {
     "name": "stdout",
     "output_type": "stream",
     "text": [
      "Avg Val Loss: 0.0345\n",
      "Trying config: hidden_size=64, num_layers=1, dropout=0.3, lr=0.001, seq_length=70\n"
     ]
    },
    {
     "name": "stderr",
     "output_type": "stream",
     "text": [
      "/home/jatinj/.local/lib/python3.11/site-packages/torch/nn/modules/rnn.py:123: UserWarning: dropout option adds dropout after all but last recurrent layer, so non-zero dropout expects num_layers greater than 1, but got dropout=0.3 and num_layers=1\n",
      "  warnings.warn(\n"
     ]
    },
    {
     "name": "stdout",
     "output_type": "stream",
     "text": [
      "Avg Val Loss: 0.0036\n",
      "Trying config: hidden_size=64, num_layers=1, dropout=0.3, lr=0.0001, seq_length=30\n"
     ]
    },
    {
     "name": "stderr",
     "output_type": "stream",
     "text": [
      "/home/jatinj/.local/lib/python3.11/site-packages/torch/nn/modules/rnn.py:123: UserWarning: dropout option adds dropout after all but last recurrent layer, so non-zero dropout expects num_layers greater than 1, but got dropout=0.3 and num_layers=1\n",
      "  warnings.warn(\n"
     ]
    },
    {
     "name": "stdout",
     "output_type": "stream",
     "text": [
      "Avg Val Loss: 0.1416\n",
      "Trying config: hidden_size=64, num_layers=1, dropout=0.3, lr=0.0001, seq_length=50\n"
     ]
    },
    {
     "name": "stderr",
     "output_type": "stream",
     "text": [
      "/home/jatinj/.local/lib/python3.11/site-packages/torch/nn/modules/rnn.py:123: UserWarning: dropout option adds dropout after all but last recurrent layer, so non-zero dropout expects num_layers greater than 1, but got dropout=0.3 and num_layers=1\n",
      "  warnings.warn(\n"
     ]
    },
    {
     "name": "stdout",
     "output_type": "stream",
     "text": [
      "Avg Val Loss: 0.1767\n",
      "Trying config: hidden_size=64, num_layers=1, dropout=0.3, lr=0.0001, seq_length=70\n"
     ]
    },
    {
     "name": "stderr",
     "output_type": "stream",
     "text": [
      "/home/jatinj/.local/lib/python3.11/site-packages/torch/nn/modules/rnn.py:123: UserWarning: dropout option adds dropout after all but last recurrent layer, so non-zero dropout expects num_layers greater than 1, but got dropout=0.3 and num_layers=1\n",
      "  warnings.warn(\n"
     ]
    },
    {
     "name": "stdout",
     "output_type": "stream",
     "text": [
      "Avg Val Loss: 0.3372\n",
      "Trying config: hidden_size=64, num_layers=2, dropout=0.1, lr=0.001, seq_length=30\n",
      "Avg Val Loss: 0.4374\n",
      "Trying config: hidden_size=64, num_layers=2, dropout=0.1, lr=0.001, seq_length=50\n",
      "Avg Val Loss: 0.2654\n",
      "Trying config: hidden_size=64, num_layers=2, dropout=0.1, lr=0.001, seq_length=70\n",
      "Avg Val Loss: 0.1836\n",
      "Trying config: hidden_size=64, num_layers=2, dropout=0.1, lr=0.0001, seq_length=30\n",
      "Avg Val Loss: 0.2310\n",
      "Trying config: hidden_size=64, num_layers=2, dropout=0.1, lr=0.0001, seq_length=50\n",
      "Avg Val Loss: 0.4190\n",
      "Trying config: hidden_size=64, num_layers=2, dropout=0.1, lr=0.0001, seq_length=70\n",
      "Avg Val Loss: 0.4891\n",
      "Trying config: hidden_size=64, num_layers=2, dropout=0.3, lr=0.001, seq_length=30\n",
      "Avg Val Loss: 1.1802\n",
      "Trying config: hidden_size=64, num_layers=2, dropout=0.3, lr=0.001, seq_length=50\n",
      "Avg Val Loss: 0.6842\n",
      "Trying config: hidden_size=64, num_layers=2, dropout=0.3, lr=0.001, seq_length=70\n",
      "Avg Val Loss: 0.1777\n",
      "Trying config: hidden_size=64, num_layers=2, dropout=0.3, lr=0.0001, seq_length=30\n",
      "Avg Val Loss: 0.3953\n",
      "Trying config: hidden_size=64, num_layers=2, dropout=0.3, lr=0.0001, seq_length=50\n",
      "Avg Val Loss: 0.4299\n",
      "Trying config: hidden_size=64, num_layers=2, dropout=0.3, lr=0.0001, seq_length=70\n",
      "Avg Val Loss: 0.4283\n",
      "Trying config: hidden_size=96, num_layers=1, dropout=0.1, lr=0.001, seq_length=30\n"
     ]
    },
    {
     "name": "stderr",
     "output_type": "stream",
     "text": [
      "/home/jatinj/.local/lib/python3.11/site-packages/torch/nn/modules/rnn.py:123: UserWarning: dropout option adds dropout after all but last recurrent layer, so non-zero dropout expects num_layers greater than 1, but got dropout=0.1 and num_layers=1\n",
      "  warnings.warn(\n"
     ]
    },
    {
     "name": "stdout",
     "output_type": "stream",
     "text": [
      "Avg Val Loss: 0.0150\n",
      "Trying config: hidden_size=96, num_layers=1, dropout=0.1, lr=0.001, seq_length=50\n"
     ]
    },
    {
     "name": "stderr",
     "output_type": "stream",
     "text": [
      "/home/jatinj/.local/lib/python3.11/site-packages/torch/nn/modules/rnn.py:123: UserWarning: dropout option adds dropout after all but last recurrent layer, so non-zero dropout expects num_layers greater than 1, but got dropout=0.1 and num_layers=1\n",
      "  warnings.warn(\n"
     ]
    },
    {
     "name": "stdout",
     "output_type": "stream",
     "text": [
      "Avg Val Loss: 0.2321\n",
      "Trying config: hidden_size=96, num_layers=1, dropout=0.1, lr=0.001, seq_length=70\n"
     ]
    },
    {
     "name": "stderr",
     "output_type": "stream",
     "text": [
      "/home/jatinj/.local/lib/python3.11/site-packages/torch/nn/modules/rnn.py:123: UserWarning: dropout option adds dropout after all but last recurrent layer, so non-zero dropout expects num_layers greater than 1, but got dropout=0.1 and num_layers=1\n",
      "  warnings.warn(\n"
     ]
    },
    {
     "name": "stdout",
     "output_type": "stream",
     "text": [
      "Avg Val Loss: 0.1032\n",
      "Trying config: hidden_size=96, num_layers=1, dropout=0.1, lr=0.0001, seq_length=30\n"
     ]
    },
    {
     "name": "stderr",
     "output_type": "stream",
     "text": [
      "/home/jatinj/.local/lib/python3.11/site-packages/torch/nn/modules/rnn.py:123: UserWarning: dropout option adds dropout after all but last recurrent layer, so non-zero dropout expects num_layers greater than 1, but got dropout=0.1 and num_layers=1\n",
      "  warnings.warn(\n"
     ]
    },
    {
     "name": "stdout",
     "output_type": "stream",
     "text": [
      "Avg Val Loss: 0.1843\n",
      "Trying config: hidden_size=96, num_layers=1, dropout=0.1, lr=0.0001, seq_length=50\n"
     ]
    },
    {
     "name": "stderr",
     "output_type": "stream",
     "text": [
      "/home/jatinj/.local/lib/python3.11/site-packages/torch/nn/modules/rnn.py:123: UserWarning: dropout option adds dropout after all but last recurrent layer, so non-zero dropout expects num_layers greater than 1, but got dropout=0.1 and num_layers=1\n",
      "  warnings.warn(\n"
     ]
    },
    {
     "name": "stdout",
     "output_type": "stream",
     "text": [
      "Avg Val Loss: 0.3303\n",
      "Trying config: hidden_size=96, num_layers=1, dropout=0.1, lr=0.0001, seq_length=70\n"
     ]
    },
    {
     "name": "stderr",
     "output_type": "stream",
     "text": [
      "/home/jatinj/.local/lib/python3.11/site-packages/torch/nn/modules/rnn.py:123: UserWarning: dropout option adds dropout after all but last recurrent layer, so non-zero dropout expects num_layers greater than 1, but got dropout=0.1 and num_layers=1\n",
      "  warnings.warn(\n"
     ]
    },
    {
     "name": "stdout",
     "output_type": "stream",
     "text": [
      "Avg Val Loss: 0.0860\n",
      "Trying config: hidden_size=96, num_layers=1, dropout=0.3, lr=0.001, seq_length=30\n"
     ]
    },
    {
     "name": "stderr",
     "output_type": "stream",
     "text": [
      "/home/jatinj/.local/lib/python3.11/site-packages/torch/nn/modules/rnn.py:123: UserWarning: dropout option adds dropout after all but last recurrent layer, so non-zero dropout expects num_layers greater than 1, but got dropout=0.3 and num_layers=1\n",
      "  warnings.warn(\n"
     ]
    },
    {
     "name": "stdout",
     "output_type": "stream",
     "text": [
      "Avg Val Loss: 0.2330\n",
      "Trying config: hidden_size=96, num_layers=1, dropout=0.3, lr=0.001, seq_length=50\n"
     ]
    },
    {
     "name": "stderr",
     "output_type": "stream",
     "text": [
      "/home/jatinj/.local/lib/python3.11/site-packages/torch/nn/modules/rnn.py:123: UserWarning: dropout option adds dropout after all but last recurrent layer, so non-zero dropout expects num_layers greater than 1, but got dropout=0.3 and num_layers=1\n",
      "  warnings.warn(\n"
     ]
    },
    {
     "name": "stdout",
     "output_type": "stream",
     "text": [
      "Avg Val Loss: 0.3779\n",
      "Trying config: hidden_size=96, num_layers=1, dropout=0.3, lr=0.001, seq_length=70\n"
     ]
    },
    {
     "name": "stderr",
     "output_type": "stream",
     "text": [
      "/home/jatinj/.local/lib/python3.11/site-packages/torch/nn/modules/rnn.py:123: UserWarning: dropout option adds dropout after all but last recurrent layer, so non-zero dropout expects num_layers greater than 1, but got dropout=0.3 and num_layers=1\n",
      "  warnings.warn(\n"
     ]
    },
    {
     "name": "stdout",
     "output_type": "stream",
     "text": [
      "Avg Val Loss: 0.1056\n",
      "Trying config: hidden_size=96, num_layers=1, dropout=0.3, lr=0.0001, seq_length=30\n"
     ]
    },
    {
     "name": "stderr",
     "output_type": "stream",
     "text": [
      "/home/jatinj/.local/lib/python3.11/site-packages/torch/nn/modules/rnn.py:123: UserWarning: dropout option adds dropout after all but last recurrent layer, so non-zero dropout expects num_layers greater than 1, but got dropout=0.3 and num_layers=1\n",
      "  warnings.warn(\n"
     ]
    },
    {
     "name": "stdout",
     "output_type": "stream",
     "text": [
      "Avg Val Loss: 0.3899\n",
      "Trying config: hidden_size=96, num_layers=1, dropout=0.3, lr=0.0001, seq_length=50\n"
     ]
    },
    {
     "name": "stderr",
     "output_type": "stream",
     "text": [
      "/home/jatinj/.local/lib/python3.11/site-packages/torch/nn/modules/rnn.py:123: UserWarning: dropout option adds dropout after all but last recurrent layer, so non-zero dropout expects num_layers greater than 1, but got dropout=0.3 and num_layers=1\n",
      "  warnings.warn(\n"
     ]
    },
    {
     "name": "stdout",
     "output_type": "stream",
     "text": [
      "Avg Val Loss: 0.5329\n",
      "Trying config: hidden_size=96, num_layers=1, dropout=0.3, lr=0.0001, seq_length=70\n"
     ]
    },
    {
     "name": "stderr",
     "output_type": "stream",
     "text": [
      "/home/jatinj/.local/lib/python3.11/site-packages/torch/nn/modules/rnn.py:123: UserWarning: dropout option adds dropout after all but last recurrent layer, so non-zero dropout expects num_layers greater than 1, but got dropout=0.3 and num_layers=1\n",
      "  warnings.warn(\n"
     ]
    },
    {
     "name": "stdout",
     "output_type": "stream",
     "text": [
      "Avg Val Loss: 0.3365\n",
      "Trying config: hidden_size=96, num_layers=2, dropout=0.1, lr=0.001, seq_length=30\n",
      "Avg Val Loss: 0.6294\n",
      "Trying config: hidden_size=96, num_layers=2, dropout=0.1, lr=0.001, seq_length=50\n",
      "Avg Val Loss: 0.4085\n",
      "Trying config: hidden_size=96, num_layers=2, dropout=0.1, lr=0.001, seq_length=70\n",
      "Avg Val Loss: 0.5134\n",
      "Trying config: hidden_size=96, num_layers=2, dropout=0.1, lr=0.0001, seq_length=30\n",
      "Avg Val Loss: 0.3078\n",
      "Trying config: hidden_size=96, num_layers=2, dropout=0.1, lr=0.0001, seq_length=50\n",
      "Avg Val Loss: 0.5173\n",
      "Trying config: hidden_size=96, num_layers=2, dropout=0.1, lr=0.0001, seq_length=70\n",
      "Avg Val Loss: 0.1573\n",
      "Trying config: hidden_size=96, num_layers=2, dropout=0.3, lr=0.001, seq_length=30\n",
      "Avg Val Loss: 0.5164\n",
      "Trying config: hidden_size=96, num_layers=2, dropout=0.3, lr=0.001, seq_length=50\n",
      "Avg Val Loss: 0.2932\n",
      "Trying config: hidden_size=96, num_layers=2, dropout=0.3, lr=0.001, seq_length=70\n",
      "Avg Val Loss: 0.2684\n",
      "Trying config: hidden_size=96, num_layers=2, dropout=0.3, lr=0.0001, seq_length=30\n",
      "Avg Val Loss: 0.1433\n",
      "Trying config: hidden_size=96, num_layers=2, dropout=0.3, lr=0.0001, seq_length=50\n",
      "Avg Val Loss: 0.1141\n",
      "Trying config: hidden_size=96, num_layers=2, dropout=0.3, lr=0.0001, seq_length=70\n",
      "Avg Val Loss: 0.0801\n",
      "Trying config: hidden_size=128, num_layers=1, dropout=0.1, lr=0.001, seq_length=30\n"
     ]
    },
    {
     "name": "stderr",
     "output_type": "stream",
     "text": [
      "/home/jatinj/.local/lib/python3.11/site-packages/torch/nn/modules/rnn.py:123: UserWarning: dropout option adds dropout after all but last recurrent layer, so non-zero dropout expects num_layers greater than 1, but got dropout=0.1 and num_layers=1\n",
      "  warnings.warn(\n"
     ]
    },
    {
     "name": "stdout",
     "output_type": "stream",
     "text": [
      "Avg Val Loss: 0.3132\n",
      "Trying config: hidden_size=128, num_layers=1, dropout=0.1, lr=0.001, seq_length=50\n"
     ]
    },
    {
     "name": "stderr",
     "output_type": "stream",
     "text": [
      "/home/jatinj/.local/lib/python3.11/site-packages/torch/nn/modules/rnn.py:123: UserWarning: dropout option adds dropout after all but last recurrent layer, so non-zero dropout expects num_layers greater than 1, but got dropout=0.1 and num_layers=1\n",
      "  warnings.warn(\n"
     ]
    },
    {
     "name": "stdout",
     "output_type": "stream",
     "text": [
      "Avg Val Loss: 0.2668\n",
      "Trying config: hidden_size=128, num_layers=1, dropout=0.1, lr=0.001, seq_length=70\n"
     ]
    },
    {
     "name": "stderr",
     "output_type": "stream",
     "text": [
      "/home/jatinj/.local/lib/python3.11/site-packages/torch/nn/modules/rnn.py:123: UserWarning: dropout option adds dropout after all but last recurrent layer, so non-zero dropout expects num_layers greater than 1, but got dropout=0.1 and num_layers=1\n",
      "  warnings.warn(\n"
     ]
    },
    {
     "name": "stdout",
     "output_type": "stream",
     "text": [
      "Avg Val Loss: 0.2639\n",
      "Trying config: hidden_size=128, num_layers=1, dropout=0.1, lr=0.0001, seq_length=30\n"
     ]
    },
    {
     "name": "stderr",
     "output_type": "stream",
     "text": [
      "/home/jatinj/.local/lib/python3.11/site-packages/torch/nn/modules/rnn.py:123: UserWarning: dropout option adds dropout after all but last recurrent layer, so non-zero dropout expects num_layers greater than 1, but got dropout=0.1 and num_layers=1\n",
      "  warnings.warn(\n"
     ]
    },
    {
     "name": "stdout",
     "output_type": "stream",
     "text": [
      "Avg Val Loss: 0.4198\n",
      "Trying config: hidden_size=128, num_layers=1, dropout=0.1, lr=0.0001, seq_length=50\n"
     ]
    },
    {
     "name": "stderr",
     "output_type": "stream",
     "text": [
      "/home/jatinj/.local/lib/python3.11/site-packages/torch/nn/modules/rnn.py:123: UserWarning: dropout option adds dropout after all but last recurrent layer, so non-zero dropout expects num_layers greater than 1, but got dropout=0.1 and num_layers=1\n",
      "  warnings.warn(\n"
     ]
    },
    {
     "name": "stdout",
     "output_type": "stream",
     "text": [
      "Avg Val Loss: 0.2171\n",
      "Trying config: hidden_size=128, num_layers=1, dropout=0.1, lr=0.0001, seq_length=70\n"
     ]
    },
    {
     "name": "stderr",
     "output_type": "stream",
     "text": [
      "/home/jatinj/.local/lib/python3.11/site-packages/torch/nn/modules/rnn.py:123: UserWarning: dropout option adds dropout after all but last recurrent layer, so non-zero dropout expects num_layers greater than 1, but got dropout=0.1 and num_layers=1\n",
      "  warnings.warn(\n"
     ]
    },
    {
     "name": "stdout",
     "output_type": "stream",
     "text": [
      "Avg Val Loss: 0.0248\n",
      "Trying config: hidden_size=128, num_layers=1, dropout=0.3, lr=0.001, seq_length=30\n"
     ]
    },
    {
     "name": "stderr",
     "output_type": "stream",
     "text": [
      "/home/jatinj/.local/lib/python3.11/site-packages/torch/nn/modules/rnn.py:123: UserWarning: dropout option adds dropout after all but last recurrent layer, so non-zero dropout expects num_layers greater than 1, but got dropout=0.3 and num_layers=1\n",
      "  warnings.warn(\n"
     ]
    },
    {
     "name": "stdout",
     "output_type": "stream",
     "text": [
      "Avg Val Loss: 0.3671\n",
      "Trying config: hidden_size=128, num_layers=1, dropout=0.3, lr=0.001, seq_length=50\n"
     ]
    },
    {
     "name": "stderr",
     "output_type": "stream",
     "text": [
      "/home/jatinj/.local/lib/python3.11/site-packages/torch/nn/modules/rnn.py:123: UserWarning: dropout option adds dropout after all but last recurrent layer, so non-zero dropout expects num_layers greater than 1, but got dropout=0.3 and num_layers=1\n",
      "  warnings.warn(\n"
     ]
    },
    {
     "name": "stdout",
     "output_type": "stream",
     "text": [
      "Avg Val Loss: 0.3940\n",
      "Trying config: hidden_size=128, num_layers=1, dropout=0.3, lr=0.001, seq_length=70\n"
     ]
    },
    {
     "name": "stderr",
     "output_type": "stream",
     "text": [
      "/home/jatinj/.local/lib/python3.11/site-packages/torch/nn/modules/rnn.py:123: UserWarning: dropout option adds dropout after all but last recurrent layer, so non-zero dropout expects num_layers greater than 1, but got dropout=0.3 and num_layers=1\n",
      "  warnings.warn(\n"
     ]
    },
    {
     "name": "stdout",
     "output_type": "stream",
     "text": [
      "Avg Val Loss: 0.0423\n",
      "Trying config: hidden_size=128, num_layers=1, dropout=0.3, lr=0.0001, seq_length=30\n"
     ]
    },
    {
     "name": "stderr",
     "output_type": "stream",
     "text": [
      "/home/jatinj/.local/lib/python3.11/site-packages/torch/nn/modules/rnn.py:123: UserWarning: dropout option adds dropout after all but last recurrent layer, so non-zero dropout expects num_layers greater than 1, but got dropout=0.3 and num_layers=1\n",
      "  warnings.warn(\n"
     ]
    },
    {
     "name": "stdout",
     "output_type": "stream",
     "text": [
      "Avg Val Loss: 0.0890\n",
      "Trying config: hidden_size=128, num_layers=1, dropout=0.3, lr=0.0001, seq_length=50\n"
     ]
    },
    {
     "name": "stderr",
     "output_type": "stream",
     "text": [
      "/home/jatinj/.local/lib/python3.11/site-packages/torch/nn/modules/rnn.py:123: UserWarning: dropout option adds dropout after all but last recurrent layer, so non-zero dropout expects num_layers greater than 1, but got dropout=0.3 and num_layers=1\n",
      "  warnings.warn(\n"
     ]
    },
    {
     "name": "stdout",
     "output_type": "stream",
     "text": [
      "Avg Val Loss: 0.2507\n",
      "Trying config: hidden_size=128, num_layers=1, dropout=0.3, lr=0.0001, seq_length=70\n"
     ]
    },
    {
     "name": "stderr",
     "output_type": "stream",
     "text": [
      "/home/jatinj/.local/lib/python3.11/site-packages/torch/nn/modules/rnn.py:123: UserWarning: dropout option adds dropout after all but last recurrent layer, so non-zero dropout expects num_layers greater than 1, but got dropout=0.3 and num_layers=1\n",
      "  warnings.warn(\n"
     ]
    },
    {
     "name": "stdout",
     "output_type": "stream",
     "text": [
      "Avg Val Loss: 0.0323\n",
      "Trying config: hidden_size=128, num_layers=2, dropout=0.1, lr=0.001, seq_length=30\n",
      "Avg Val Loss: 0.4516\n",
      "Trying config: hidden_size=128, num_layers=2, dropout=0.1, lr=0.001, seq_length=50\n",
      "Avg Val Loss: 0.4778\n",
      "Trying config: hidden_size=128, num_layers=2, dropout=0.1, lr=0.001, seq_length=70\n",
      "Avg Val Loss: 0.9433\n",
      "Trying config: hidden_size=128, num_layers=2, dropout=0.1, lr=0.0001, seq_length=30\n",
      "Avg Val Loss: 0.2880\n",
      "Trying config: hidden_size=128, num_layers=2, dropout=0.1, lr=0.0001, seq_length=50\n",
      "Avg Val Loss: 0.1842\n",
      "Trying config: hidden_size=128, num_layers=2, dropout=0.1, lr=0.0001, seq_length=70\n",
      "Avg Val Loss: 0.0751\n",
      "Trying config: hidden_size=128, num_layers=2, dropout=0.3, lr=0.001, seq_length=30\n",
      "Avg Val Loss: 0.9244\n",
      "Trying config: hidden_size=128, num_layers=2, dropout=0.3, lr=0.001, seq_length=50\n",
      "Avg Val Loss: 1.2453\n",
      "Trying config: hidden_size=128, num_layers=2, dropout=0.3, lr=0.001, seq_length=70\n",
      "Avg Val Loss: 1.6999\n",
      "Trying config: hidden_size=128, num_layers=2, dropout=0.3, lr=0.0001, seq_length=30\n",
      "Avg Val Loss: 0.2416\n",
      "Trying config: hidden_size=128, num_layers=2, dropout=0.3, lr=0.0001, seq_length=50\n",
      "Avg Val Loss: 0.2090\n",
      "Trying config: hidden_size=128, num_layers=2, dropout=0.3, lr=0.0001, seq_length=70\n",
      "Avg Val Loss: 0.2543\n",
      "\n",
      "Best config:\n",
      "hidden_size=32, num_layers=1, dropout=0.1, lr=0.001, seq_length=50\n"
     ]
    }
   ],
   "source": [
    "# Hyperparameter tuning to find the best configuration\n",
    "best_params = hyperparameter_tuning(train_df, device=device)"
   ]
  },
  {
   "cell_type": "code",
   "execution_count": 20,
   "id": "c9179e62",
   "metadata": {},
   "outputs": [
    {
     "name": "stderr",
     "output_type": "stream",
     "text": [
      "/home/jatinj/.local/lib/python3.11/site-packages/torch/nn/modules/rnn.py:123: UserWarning: dropout option adds dropout after all but last recurrent layer, so non-zero dropout expects num_layers greater than 1, but got dropout=0.1 and num_layers=1\n",
      "  warnings.warn(\n",
      "/home/jatinj/.local/lib/python3.11/site-packages/torch/optim/lr_scheduler.py:62: UserWarning: The verbose parameter is deprecated. Please use get_last_lr() to access the learning rate.\n",
      "  warnings.warn(\n"
     ]
    },
    {
     "name": "stdout",
     "output_type": "stream",
     "text": [
      "Epoch [1/30], Loss: 0.0006\n",
      "Epoch [2/30], Loss: 0.0042\n",
      "Epoch [3/30], Loss: 0.0026\n",
      "Epoch [4/30], Loss: 0.0022\n",
      "Epoch [5/30], Loss: 0.0015\n",
      "Epoch [6/30], Loss: 0.0024\n",
      "Epoch [7/30], Loss: 0.0034\n",
      "Epoch [8/30], Loss: 0.0013\n",
      "Epoch [9/30], Loss: 0.0004\n",
      "Epoch [10/30], Loss: 0.0001\n",
      "Epoch [11/30], Loss: 0.0001\n",
      "Epoch [12/30], Loss: 0.0000\n",
      "Epoch [13/30], Loss: 0.0000\n",
      "Epoch [14/30], Loss: 0.0000\n",
      "Epoch [15/30], Loss: 0.0000\n",
      "Epoch [16/30], Loss: 0.0000\n",
      "Epoch [17/30], Loss: 0.0000\n",
      "Epoch [18/30], Loss: 0.0000\n",
      "Epoch [19/30], Loss: 0.0000\n",
      "Epoch [20/30], Loss: 0.0001\n",
      "Epoch [21/30], Loss: 0.0000\n",
      "Epoch [22/30], Loss: 0.0001\n",
      "Epoch [23/30], Loss: 0.0000\n",
      "Epoch [24/30], Loss: 0.0000\n",
      "Epoch [25/30], Loss: 0.0000\n",
      "Epoch [26/30], Loss: 0.0000\n",
      "Epoch [27/30], Loss: 0.0000\n",
      "Epoch [28/30], Loss: 0.0002\n",
      "Epoch [29/30], Loss: 0.0001\n",
      "Epoch [30/30], Loss: 0.0000\n"
     ]
    },
    {
     "data": {
      "image/png": "[encoded data removed]",
      "text/plain": [
       "<Figure size 640x480 with 1 Axes>"
      ]
     },
     "metadata": {},
     "output_type": "display_data"
    },
    {
     "name": "stdout",
     "output_type": "stream",
     "text": [
      "\n",
      "Model Type: Standard RNN\n",
      "Hidden Size: 32\n",
      "Num Layers: 1\n",
      "Dropout: 0.1\n",
      "Learning Rate: 0.001\n",
      "Window Length: 50\n"
     ]
    }
   ],
   "source": [
    "# Train the model with the best parameters\n",
    "train_loader, scaler = prepare_data(train_df, seq_length=best_params[4])\n",
    "model = RNNModel(hidden_size=best_params[0], num_layers=best_params[1], dropout=best_params[2]).to(device)\n",
    "train_model(model, train_loader, lr=best_params[3], device=device)\n",
    "\n",
    "print(\"\\nModel Type: Standard RNN\")\n",
    "print(f\"Hidden Size: {best_params[0]}\")\n",
    "print(f\"Num Layers: {best_params[1]}\")\n",
    "print(f\"Dropout: {best_params[2]}\")\n",
    "print(f\"Learning Rate: {best_params[3]}\")\n",
    "print(f\"Window Length: {best_params[4]}\")"
   ]
  },
  {
   "cell_type": "code",
   "execution_count": 21,
   "id": "de6c11be",
   "metadata": {},
   "outputs": [
    {
     "name": "stdout",
     "output_type": "stream",
     "text": [
      "Test MSE: 1752.9604\n",
      "Test MAE: 25.1464\n"
     ]
    },
    {
     "data": {
      "image/png": "[encoded data removed]",
      "text/plain": [
       "<Figure size 1200x600 with 1 Axes>"
      ]
     },
     "metadata": {},
     "output_type": "display_data"
    }
   ],
   "source": [
    "# Prepare test data for evaluation\n",
    "test_loader, _ = prepare_data(test_df, seq_length=best_params[4], scaler=scaler, fit=False)\n",
    "# Evaluate the model on the test set\n",
    "evaluate_model(model, test_loader, scaler)"
   ]
  }
 ],
 "metadata": {
  "kernelspec": {
   "display_name": "Python 3 (ipykernel)",
   "language": "python",
   "name": "python3"
  },
  "language_info": {
   "codemirror_mode": {
    "name": "ipython",
    "version": 3
   },
   "file_extension": ".py",
   "mimetype": "text/x-python",
   "name": "python",
   "nbconvert_exporter": "python",
   "pygments_lexer": "ipython3",
   "version": "3.11.7"
  }
 },
 "nbformat": 4,
 "nbformat_minor": 5
}
